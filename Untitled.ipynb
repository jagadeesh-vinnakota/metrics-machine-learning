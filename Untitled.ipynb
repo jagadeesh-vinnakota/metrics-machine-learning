{
 "cells": [
  {
   "cell_type": "code",
   "execution_count": 2,
   "metadata": {},
   "outputs": [],
   "source": [
    "# -*- coding: utf-8 -*-\n",
    "\n",
    "import pandas as pd\n",
    "import matplotlib.pyplot as plt\n",
    "import numpy as np\n",
    "\n",
    "#importing the data set\n",
    "dataset = pd.read_csv('D:\\datascience-practice\\insurance.csv')\n",
    "\n",
    "x = dataset.iloc[:,:-1].values\n",
    "y = dataset.iloc[:,6].values\n",
    "\n",
    "#Encoding the categorical data\n",
    "from sklearn.preprocessing import LabelEncoder, OneHotEncoder\n",
    "\n",
    "#for encoding places\n",
    "labelencoder = LabelEncoder()\n",
    "x[:, 5] = labelencoder.fit_transform(x[:, 5])\n",
    "\n",
    "#for encoding smoking\n",
    "labelencoder_place = LabelEncoder()\n",
    "x[:, 4] = labelencoder_place.fit_transform(x[:, 4])\n",
    "\n",
    "#for encoding gender\n",
    "labelencoder_gender = LabelEncoder()\n",
    "x[:, 1] = labelencoder_place.fit_transform(x[:, 1])\n",
    "\n",
    "#converting the region attributes\n",
    "onehotencoder = OneHotEncoder(categorical_features = [5])\n",
    "x = onehotencoder.fit_transform(x).toarray()\n",
    "#Avoding the dummy variable trap\n",
    "x = x[:, 1:]\n",
    "\n",
    "\n",
    "#converting the smoking attributes\n",
    "onehotencoder_smoke = OneHotEncoder(categorical_features = [7])\n",
    "x = onehotencoder_smoke.fit_transform(x).toarray()\n",
    "x = x[:, 1:]\n",
    "\n",
    "#converting the gender attributes\n",
    "onehotencoder_gender = OneHotEncoder(categorical_features = [5])\n",
    "x = onehotencoder_gender.fit_transform(x).toarray()\n",
    "x = x[:, 1:]\n",
    "\n",
    "\n",
    "\n",
    "from sklearn.preprocessing import StandardScaler\n",
    "sc_x = StandardScaler()\n",
    "sc_y = StandardScaler()\n",
    "\n",
    "x = sc_x.fit_transform(x)\n",
    "\n",
    "y = sc_y.fit_transform(y.reshape(-1,1))\n",
    "\n",
    "x = np.delete(x,1,axis=1)\n",
    "\n",
    "from sklearn.model_selection import train_test_split\n",
    "x_train, x_test, y_train, y_test = train_test_split(x, y, test_size = 0.2, random_state = 0)\n"
   ]
  },
  {
   "cell_type": "code",
   "execution_count": 3,
   "metadata": {},
   "outputs": [],
   "source": [
    "# Our task is a regression task where \n",
    "# we are predicting the insurance amount claimed by people depending \n",
    "# on their age, their location and other features. \n",
    "# Trained a model using Linear regression.\n",
    "\n",
    "from sklearn.linear_model import LinearRegression\n",
    "regresser = LinearRegression()\n",
    "regresser.fit(x_train, y_train)\n",
    "\n",
    "#predicting the test set results\n",
    "y_pred = regresser.predict(x_test)\n",
    "\n"
   ]
  },
  {
   "cell_type": "code",
   "execution_count": 4,
   "metadata": {},
   "outputs": [
    {
     "data": {
      "text/plain": [
       "0.16434435894991628"
      ]
     },
     "execution_count": 4,
     "metadata": {},
     "output_type": "execute_result"
    }
   ],
   "source": [
    "#  After building a machine learning model, we need to validate the model using some metrics.\n",
    "#  For regression tasks, these are the metrics we generally used.\n",
    "\n",
    "#  1. R squared error: It measures how well our data fit into the model and how \n",
    "#  accurately the model is predicting the unseen data.\n",
    "\n",
    "#     R^2 = 1 - (SSE/TSS) \n",
    "#               where SSE is defined as the sum of squared errors (actual target - predicted target)\n",
    "#               where TSS is defined as the total sum of squares (Actual target - mean of target)\n",
    "# The possible values of this be 0 to 1. The more closer to zero, the better the model is.\n",
    "\n",
    "# Here is the python code snippet to calculate R^2 error \n",
    "regresser.score(x_test,y_test)"
   ]
  },
  {
   "cell_type": "code",
   "execution_count": 5,
   "metadata": {},
   "outputs": [
    {
     "data": {
      "text/plain": [
       "3.248148025811295"
      ]
     },
     "execution_count": 5,
     "metadata": {},
     "output_type": "execute_result"
    }
   ],
   "source": [
    "\n",
    "# 2. Max error metric: defines as the max difference between the true target and predicted target.\n",
    "# lower the value, better the model is\n",
    "\n",
    "# Here is the python code snippet to calculate max error metric\n",
    "arr = np.setdiff1d(y_test,y_pred)\n",
    "arr = np.absolute(arr)\n",
    "np.max(arr)\n"
   ]
  },
  {
   "cell_type": "code",
   "execution_count": 6,
   "metadata": {},
   "outputs": [
    {
     "data": {
      "text/plain": [
       "0.9525931660665768"
      ]
     },
     "execution_count": 6,
     "metadata": {},
     "output_type": "execute_result"
    }
   ],
   "source": [
    "\n",
    "# 3. Root Mean Squared Error(RMSE): defined as the square root of mean squared error. \n",
    "#  where mean suared error is defined the mean of sum of the square difference \n",
    "#  between actual target and predicted target.\n",
    "\n",
    "# RMSE is a measure of the average deviation of the estimates from the observed values. \n",
    "# lower the value, better the model is.\n",
    "\n",
    "# Here is the python code snippet to calculate RMSE\n",
    "from sklearn.metrics import mean_squared_error\n",
    "import math\n",
    "math.sqrt(mean_squared_error(y_test,y_pred))\n"
   ]
  },
  {
   "cell_type": "code",
   "execution_count": null,
   "metadata": {},
   "outputs": [],
   "source": []
  }
 ],
 "metadata": {
  "kernelspec": {
   "display_name": "Python 3",
   "language": "python",
   "name": "python3"
  },
  "language_info": {
   "codemirror_mode": {
    "name": "ipython",
    "version": 3
   },
   "file_extension": ".py",
   "mimetype": "text/x-python",
   "name": "python",
   "nbconvert_exporter": "python",
   "pygments_lexer": "ipython3",
   "version": "3.6.4"
  }
 },
 "nbformat": 4,
 "nbformat_minor": 2
}
